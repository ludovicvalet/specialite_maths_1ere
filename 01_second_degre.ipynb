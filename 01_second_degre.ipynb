{
 "cells": [
  {
   "cell_type": "markdown",
   "metadata": {},
   "source": [
    "#<p style=\"text-align: center;\">  Équation du second degré<p>\n",
    "\n",
    "\n",
    "\\(ax^2+bx+c = 0\\) \n"
   ]
  },
  {
   "cell_type": "code",
   "execution_count": 28,
   "metadata": {
    "collapsed": true
   },
   "outputs": [],
   "source": [
    "#calcul du discriminant \n",
    "import math \n",
    "\n",
    "def discriminant(a,b,c):\n",
    "    print(\"Delta = \", b**2-4*a*c )\n",
    "    return b**2-4*a*c\n"
   ]
  },
  {
   "cell_type": "code",
   "execution_count": 46,
   "metadata": {
    "collapsed": false
   },
   "outputs": [],
   "source": [
    "#Tester le signe du discriminant\n",
    "\n",
    "def solution(a,b,c):\n",
    "    delta = discriminant(a,b,c)\n",
    "    if delta<0:\n",
    "        print(\"L'équation n'a pas de solution réelle\")\n",
    "    elif delta==0:\n",
    "        print(\"L'équation a une racine double : \", \"x_0 = \",-b/(2*a))\n",
    "    else:\n",
    "        print(\"L'équation a deux racines distinctes : \", \"x_1 = \",(-b+math.sqrt(delta))/(2*a),\" et x_2 = \"\\\n",
    "                                                                , (-b-math.sqrt(delta))/(2*a))\n",
    "    \n",
    "    "
   ]
  },
  {
   "cell_type": "code",
   "execution_count": 47,
   "metadata": {
    "collapsed": false
   },
   "outputs": [
    {
     "name": "stdout",
     "output_type": "stream",
     "text": [
      "Delta =  -8\n",
      "L'équation n'a pas de solution réelle\n"
     ]
    }
   ],
   "source": [
    "solution(1,2,3)"
   ]
  },
  {
   "cell_type": "code",
   "execution_count": null,
   "metadata": {
    "collapsed": true
   },
   "outputs": [],
   "source": []
  },
  {
   "cell_type": "code",
   "execution_count": null,
   "metadata": {
    "collapsed": true
   },
   "outputs": [],
   "source": []
  }
 ],
 "metadata": {
  "kernelspec": {
   "display_name": "Python 3",
   "language": "python",
   "name": "python3"
  },
  "language_info": {
   "codemirror_mode": {
    "name": "ipython",
    "version": 3
   },
   "file_extension": ".py",
   "mimetype": "text/x-python",
   "name": "python",
   "nbconvert_exporter": "python",
   "pygments_lexer": "ipython3",
   "version": "3.4.3"
  }
 },
 "nbformat": 4,
 "nbformat_minor": 0
}
